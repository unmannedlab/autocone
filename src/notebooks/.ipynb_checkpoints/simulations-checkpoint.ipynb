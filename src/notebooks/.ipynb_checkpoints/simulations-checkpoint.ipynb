{
 "cells": [
  {
   "cell_type": "code",
   "execution_count": 3,
   "metadata": {},
   "outputs": [
    {
     "ename": "ModuleNotFoundError",
     "evalue": "No module named 'autocone'",
     "output_type": "error",
     "traceback": [
      "\u001b[1;31m---------------------------------------------------------------------------\u001b[0m",
      "\u001b[1;31mModuleNotFoundError\u001b[0m                       Traceback (most recent call last)",
      "\u001b[1;32m<ipython-input-3-1fa1516ad895>\u001b[0m in \u001b[0;36m<module>\u001b[1;34m\u001b[0m\n\u001b[0;32m      5\u001b[0m \u001b[1;32mfrom\u001b[0m \u001b[0mvehicle_transforms\u001b[0m \u001b[1;32mimport\u001b[0m \u001b[0mtf_skid_steering\u001b[0m\u001b[1;33m\u001b[0m\u001b[1;33m\u001b[0m\u001b[0m\n\u001b[0;32m      6\u001b[0m \u001b[1;32mfrom\u001b[0m \u001b[0mvehicle_simulator\u001b[0m \u001b[1;32mimport\u001b[0m \u001b[0msim_skid_steering\u001b[0m\u001b[1;33m\u001b[0m\u001b[1;33m\u001b[0m\u001b[0m\n\u001b[1;32m----> 7\u001b[1;33m \u001b[1;32mfrom\u001b[0m \u001b[0mspline_controller\u001b[0m \u001b[1;32mimport\u001b[0m \u001b[0mspline_controller\u001b[0m\u001b[1;33m\u001b[0m\u001b[1;33m\u001b[0m\u001b[0m\n\u001b[0m\u001b[0;32m      8\u001b[0m \u001b[1;32mfrom\u001b[0m \u001b[0mvehicle_controller\u001b[0m \u001b[1;32mimport\u001b[0m \u001b[0mvehicle_controller\u001b[0m\u001b[1;33m\u001b[0m\u001b[1;33m\u001b[0m\u001b[0m\n\u001b[0;32m      9\u001b[0m \u001b[1;32mfrom\u001b[0m \u001b[0mheading_rate_controller\u001b[0m \u001b[1;32mimport\u001b[0m \u001b[0mPID_hdg\u001b[0m\u001b[1;33m\u001b[0m\u001b[1;33m\u001b[0m\u001b[0m\n",
      "\u001b[1;32m~\\GitHub\\autocone\\src\\autocone\\spline_controller.py\u001b[0m in \u001b[0;36m<module>\u001b[1;34m\u001b[0m\n\u001b[0;32m      6\u001b[0m \u001b[1;33m\u001b[0m\u001b[0m\n\u001b[0;32m      7\u001b[0m \u001b[1;31m# Import my libraries\u001b[0m\u001b[1;33m\u001b[0m\u001b[1;33m\u001b[0m\u001b[1;33m\u001b[0m\u001b[0m\n\u001b[1;32m----> 8\u001b[1;33m \u001b[1;32mimport\u001b[0m \u001b[0mautocone\u001b[0m\u001b[1;33m.\u001b[0m\u001b[0mutils\u001b[0m \u001b[1;32mas\u001b[0m \u001b[0mutils\u001b[0m\u001b[1;33m\u001b[0m\u001b[1;33m\u001b[0m\u001b[0m\n\u001b[0m\u001b[0;32m      9\u001b[0m \u001b[1;32mimport\u001b[0m \u001b[0mautocone\u001b[0m\u001b[1;33m.\u001b[0m\u001b[0mgeometry\u001b[0m \u001b[1;32mas\u001b[0m \u001b[0mgeometry\u001b[0m\u001b[1;33m\u001b[0m\u001b[1;33m\u001b[0m\u001b[0m\n\u001b[0;32m     10\u001b[0m \u001b[1;32mimport\u001b[0m \u001b[0mautocone\u001b[0m\u001b[1;33m.\u001b[0m\u001b[0mutm\u001b[0m \u001b[1;32mas\u001b[0m \u001b[0mutm\u001b[0m\u001b[1;33m\u001b[0m\u001b[1;33m\u001b[0m\u001b[0m\n",
      "\u001b[1;31mModuleNotFoundError\u001b[0m: No module named 'autocone'"
     ]
    }
   ],
   "source": [
    "import sys, os, time\n",
    "import numpy as np\n",
    "import pandas as pd \n",
    "sys.path.append('../')\n",
    "from vehicle_transforms import tf_skid_steering\n",
    "from vehicle_simulator import sim_skid_steering\n",
    "from spline_controller import spline_controller\n",
    "from vehicle_controller import vehicle_controller\n",
    "from heading_rate_controller import PID_hdg\n",
    "import geometry\n",
    "import matplotlib.pyplot as plt"
   ]
  },
  {
   "cell_type": "code",
   "execution_count": null,
   "metadata": {},
   "outputs": [],
   "source": [
    "kp = 2.0\n",
    "ki = 0\n",
    "kd = 1.0\n",
    "acc = 1.0\n",
    "tf_veh = tf_skid_steering( 0.5, 0.254 )\n",
    "sim_veh = sim_skid_steering( 0.5, 0.254, 10, -10, 0, 0, acc)\n",
    "hc = PID_hdg( kp, ki, kd )\n",
    "targ_velocity = 3.5\n",
    "N = 10000\n",
    "time_space = np.linspace(0, 40, num=N)\n",
    "\n",
    "for i in range(N) :\n",
    "    if time_space[i] < 10 :\n",
    "        targ_heading = 0\n",
    "    elif time_space[i] <20 :\n",
    "        targ_heading = np.pi/2\n",
    "    elif time_space[i] < 30 :\n",
    "        targ_heading = np.pi\n",
    "    else :\n",
    "        targ_heading = 3 * np.pi / 2\n",
    "    \n",
    "    if i == 0 :\n",
    "        (rov_x, rov_y, rov_theta) = sim_veh.step(0,0,time_space[i])\n",
    "    else:\n",
    "        (rov_x, rov_y, rov_theta) = sim_veh.step(rvel,lvel,time_space[i])\n",
    "    \n",
    "    hdg_rate = hc.step(targ_heading, rov_theta, time_space[i])\n",
    "    (rvel, lvel) = tf_veh.transform( hdg_rate, targ_velocity)\n",
    "\n",
    "plt.scatter(sim_veh.y, sim_veh.x)\n",
    "    \n",
    "pd.DataFrame({'x':sim_veh.x, 'y':sim_veh.y}).to_csv('sim_tuning.csv')\n",
    "\n"
   ]
  },
  {
   "cell_type": "code",
   "execution_count": null,
   "metadata": {},
   "outputs": [],
   "source": [
    "time_space = np.linspace(0,120,num=N)\n",
    "x_path = 0*np.ones(time_space.shape)\n",
    "y_path = 5*time_space-3\n",
    "plt.scatter(y_path, x_path)"
   ]
  },
  {
   "cell_type": "code",
   "execution_count": null,
   "metadata": {},
   "outputs": [],
   "source": [
    "def targ_hdg_fnc( rov_x, rov_y, rov_heading, cp_x, cp_y, cp_hdg ) :\n",
    "    \"\"\"This is the error function which produces a heading rate\"\"\"\n",
    "    hdg_error = geometry.angle_min_diff( rov_heading, cp_hdg )\n",
    "    brg = geometry.bearing((rov_x, rov_y),(cp_x, cp_y))\n",
    "    dist = np.sign(geometry.angle_min_diff( cp_hdg, brg )) * geometry.distance((cp_x, cp_y), (rov_x, rov_y))\n",
    "    err = (np.math.atan(dist)+ hdg_error) / (3 * np.pi /2)\n",
    "    #print(hdg_error, dist, err)\n",
    "    targ_hdg = rov_heading + err\n",
    "    return targ_hdg"
   ]
  },
  {
   "cell_type": "code",
   "execution_count": null,
   "metadata": {},
   "outputs": [],
   "source": [
    "tf_veh = tf_skid_steering( 0.5, 0.254 )\n",
    "sim_veh = sim_skid_steering( 0.5, 0.254, 10, 10, 0*np.pi/2, 0, acc)\n",
    "sc = spline_controller( targ_hdg_fnc, 'xyz', 'xyz', 4.0, 0.5, 0.5, 1.0, 5.0, 10,10000)\n",
    "hc = PID_hdg( kp , ki, kd)\n",
    "vc = vehicle_controller( sc, hc, tf_veh )"
   ]
  },
  {
   "cell_type": "code",
   "execution_count": null,
   "metadata": {},
   "outputs": [],
   "source": [
    "for idx in range( len( time_space ) ) :\n",
    "    vc.src_add(x_path[idx], y_path[idx], time_space[idx])"
   ]
  },
  {
   "cell_type": "code",
   "execution_count": null,
   "metadata": {},
   "outputs": [],
   "source": [
    "for idx in range( len( time_space ) ) :\n",
    "    if idx == 0 or halt :\n",
    "        (rov_x, rov_y, rov_theta) = sim_veh.step(0,0,0)\n",
    "    else :\n",
    "        (rov_x, rov_y, rov_theta) = sim_veh.step(rvel, lvel, time_space[idx])\n",
    "    \n",
    "    ((rvel, lvel), lateness, halt) = vc.controller_step( time_space[idx], rov_x, rov_y, rov_theta)\n",
    "    if halt:\n",
    "        break\n",
    "\n",
    "time_delta = 0.1\n",
    "last_time = time_space[-1]\n",
    "\"\"\"\n",
    "i =0\n",
    "while (rvel > 0 and lvel > 0) and i < 1000 :\n",
    "    last_time += time_delta\n",
    "    (rov_x, rov_y, rov_theta) = sim_veh.step(rvel, lvel, last_time)\n",
    "    ((rvel,lvel),lateness) = vc.controller_step( last_time, rov_x, rov_y, rov_theta)\n",
    "    i += 1\n",
    "\"\"\"\n",
    "plt.scatter(y_path, x_path)\n",
    "plt.scatter(sim_veh.y, sim_veh.x)\n",
    "#print(vc.sc.src_data.get_whole_array()[:,vc.sc.idx_heading])\n",
    "pd.DataFrame({'src_x':x_path, 'src_y':y_path}).to_csv('src_straight_line.csv')\n",
    "pd.DataFrame({'rov_x':sim_veh.x, 'rov_y':sim_veh.y}).to_csv('rov_straight_line.csv')"
   ]
  },
  {
   "cell_type": "code",
   "execution_count": null,
   "metadata": {},
   "outputs": [],
   "source": [
    "time_space = np.linspace(0,120,num=N)\n",
    "x_path = 50*np.cos(time_space/120)\n",
    "y_path = 5*np.sin(time_space/50)\n",
    "plt.scatter(y_path, x_path)"
   ]
  },
  {
   "cell_type": "code",
   "execution_count": null,
   "metadata": {},
   "outputs": [],
   "source": [
    "tf_veh = tf_skid_steering( 0.5, 0.254 )\n",
    "sim_veh = sim_skid_steering( 0.5, 0.254, 45, -10, -np.pi/2, 0, acc)\n",
    "sc = spline_controller( targ_hdg_fnc, 'xyz', 'xyz', 4.0, 0.5, 0.5, 1.0, 5.0, 10,10000)\n",
    "hc = PID_hdg( kp , ki, kd)\n",
    "vc = vehicle_controller( sc, hc, tf_veh )"
   ]
  },
  {
   "cell_type": "code",
   "execution_count": null,
   "metadata": {},
   "outputs": [],
   "source": [
    "for idx in range( len( time_space ) ) :\n",
    "    vc.src_add(x_path[idx], y_path[idx], time_space[idx])\n",
    "for idx in range( len( time_space ) ) :\n",
    "    if idx == 0 or halt:\n",
    "        (rov_x, rov_y, rov_theta) = sim_veh.step(0,0,0)\n",
    "    else :\n",
    "        (rov_x, rov_y, rov_theta) = sim_veh.step(rvel, lvel, time_space[idx])\n",
    "    \n",
    "    ((rvel, lvel), lateness, halt) = vc.controller_step( time_space[idx], rov_x, rov_y, rov_theta)\n",
    "\n",
    "\n",
    "time_delta = 0.1\n",
    "last_time = time_space[-1]\n",
    "\"\"\"\n",
    "i =0\n",
    "while (rvel > 0 and lvel > 0) and i < 1000 :\n",
    "    last_time += time_delta\n",
    "    (rov_x, rov_y, rov_theta) = sim_veh.step(rvel, lvel, last_time)\n",
    "    ((rvel,lvel),lateness) = vc.controller_step( last_time, rov_x, rov_y, rov_theta)\n",
    "    i += 1\n",
    "\"\"\"\n",
    "plt.scatter(y_path, x_path)\n",
    "plt.scatter(sim_veh.y, sim_veh.x)\n",
    "#print(vc.sc.src_data.get_whole_array()[:,vc.sc.idx_heading])\n",
    "pd.DataFrame({'src_x':x_path, 'src_y':y_path}).to_csv('src_curve.csv')\n",
    "pd.DataFrame({'rov_x':sim_veh.x, 'rov_y':sim_veh.y}).to_csv('rov_curve.csv')"
   ]
  },
  {
   "cell_type": "code",
   "execution_count": null,
   "metadata": {},
   "outputs": [],
   "source": []
  },
  {
   "cell_type": "code",
   "execution_count": null,
   "metadata": {},
   "outputs": [],
   "source": []
  }
 ],
 "metadata": {
  "kernelspec": {
   "display_name": "Python 3",
   "language": "python",
   "name": "python3"
  },
  "language_info": {
   "codemirror_mode": {
    "name": "ipython",
    "version": 3
   },
   "file_extension": ".py",
   "mimetype": "text/x-python",
   "name": "python",
   "nbconvert_exporter": "python",
   "pygments_lexer": "ipython3",
   "version": "3.8.3"
  }
 },
 "nbformat": 4,
 "nbformat_minor": 4
}
