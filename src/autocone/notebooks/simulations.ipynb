{
 "cells": [
  {
   "cell_type": "code",
   "execution_count": 1,
   "metadata": {},
   "outputs": [],
   "source": [
    "import sys, os, time\n",
    "import numpy as np\n",
    "import pandas as pd\n",
    "sys.path.append('../old')\n",
    "from autocone.vehicle_transforms import tf_skid_steering\n",
    "from autocone.vehicle_simulator import sim_skid_steering\n",
    "from autocone.spline_controller import spline_controller\n",
    "from vehicle_controller import vehicle_controller\n",
    "from autocone.heading_rate_controller import PID_hdg\n",
    "import autocone.geometry\n",
    "import matplotlib.pyplot as plt"
   ]
  },
  {
   "cell_type": "code",
   "execution_count": 2,
   "metadata": {},
   "outputs": [
    {
     "data": {
      "image/png": "[encoded data removed]",
      "text/plain": [
       "<Figure size 432x288 with 1 Axes>"
      ]
     },
     "metadata": {
      "needs_background": "light"
     },
     "output_type": "display_data"
    }
   ],
   "source": [
    "kp = 1\n",
    "ki = 0\n",
    "kd = 0.1\n",
    "acc = 1.0\n",
    "tf_veh = tf_skid_steering( 0.5, 0.254 )\n",
    "sim_veh = sim_skid_steering( 0.5, 0.254, 10, -10, 0, 0, acc)\n",
    "hc = PID_hdg( kp, ki, kd )\n",
    "targ_velocity = 3.5\n",
    "N = 10000\n",
    "time_space = np.linspace(0, 40, num=N)\n",
    "\n",
    "for i in range(N) :\n",
    "    if time_space[i] < 10 :\n",
    "        targ_heading = 0\n",
    "    elif time_space[i] <20 :\n",
    "        targ_heading = np.pi/2\n",
    "    elif time_space[i] < 30 :\n",
    "        targ_heading = np.pi\n",
    "    else :\n",
    "        targ_heading = 3 * np.pi / 2\n",
    "    \n",
    "    if i == 0 :\n",
    "        (rov_x, rov_y, rov_theta) = sim_veh.step(0,0,time_space[i])\n",
    "    else:\n",
    "        (rov_x, rov_y, rov_theta) = sim_veh.step(rvel,lvel,time_space[i])\n",
    "    \n",
    "    hdg_rate = hc.step(targ_heading, rov_theta, time_space[i])\n",
    "    (rvel, lvel) = tf_veh.transform( hdg_rate, targ_velocity)\n",
    "\n",
    "plt.scatter(sim_veh.y, sim_veh.x)\n",
    "    \n",
    "pd.DataFrame({'x':sim_veh.x, 'y':sim_veh.y}).to_csv('sim_tuning.csv')\n",
    "\n"
   ]
  },
  {
   "cell_type": "code",
   "execution_count": 3,
   "metadata": {},
   "outputs": [
    {
     "data": {
      "text/plain": [
       "<matplotlib.collections.PathCollection at 0x1f915771c40>"
      ]
     },
     "execution_count": 3,
     "metadata": {},
     "output_type": "execute_result"
    },
    {
     "data": {
      "image/png": "[encoded data removed]",
      "text/plain": [
       "<Figure size 432x288 with 1 Axes>"
      ]
     },
     "metadata": {
      "needs_background": "light"
     },
     "output_type": "display_data"
    }
   ],
   "source": [
    "time_space = np.linspace(0,120,num=N)\n",
    "x_path = 0*np.ones(time_space.shape)\n",
    "y_path = 5*time_space-3\n",
    "plt.scatter(y_path, x_path)"
   ]
  },
  {
   "cell_type": "code",
   "execution_count": 4,
   "metadata": {},
   "outputs": [],
   "source": [
    "from autocone.geometry import target_heading_function as targ_hdg_fnc"
   ]
  },
  {
   "cell_type": "code",
   "execution_count": 5,
   "metadata": {},
   "outputs": [],
   "source": [
    "tf_veh = tf_skid_steering( 0.5, 0.254 )\n",
    "sim_veh = sim_skid_steering( 0.5, 0.254, 10, 10, 0*np.pi/2, 0, acc)\n",
    "sc = spline_controller( targ_hdg_fnc, 'xyz', 'xyz', 4.0, 1, 1,0.2, 1.0, 5.0, 10,10000)\n",
    "hc = PID_hdg( kp , ki, kd)\n",
    "vc = vehicle_controller( sc, hc, tf_veh )"
   ]
  },
  {
   "cell_type": "code",
   "execution_count": null,
   "metadata": {},
   "outputs": [],
   "source": [
    "for idx in range( len( time_space ) ) :\n",
    "    vc.src_add(x_path[idx], y_path[idx], time_space[idx])"
   ]
  },
  {
   "cell_type": "code",
   "execution_count": 7,
   "metadata": {},
   "outputs": [
    {
     "name": "stderr",
     "output_type": "stream",
     "text": [
      "c:\\users\\geo\\github\\autocone\\src\\autocone\\spline_controller.py:147: RuntimeWarning: invalid value encountered in double_scalars\n",
      "  v_acc = (2 * self.rov_max_lat_acc * np.sin(cp_hdg_delta/2)) / cp_hdg_delta\n"
     ]
    },
    {
     "ename": "ValueError",
     "evalue": "The inputs cannot be nan values nan, nan, 0.012001200120012",
     "output_type": "error",
     "traceback": [
      "\u001b[1;31m---------------------------------------------------------------------------\u001b[0m",
      "\u001b[1;31mValueError\u001b[0m                                Traceback (most recent call last)",
      "\u001b[1;32m<ipython-input-7-ec67fb7ae557>\u001b[0m in \u001b[0;36m<module>\u001b[1;34m\u001b[0m\n\u001b[0;32m      3\u001b[0m         \u001b[1;33m(\u001b[0m\u001b[0mrov_x\u001b[0m\u001b[1;33m,\u001b[0m \u001b[0mrov_y\u001b[0m\u001b[1;33m,\u001b[0m \u001b[0mrov_theta\u001b[0m\u001b[1;33m)\u001b[0m \u001b[1;33m=\u001b[0m \u001b[0msim_veh\u001b[0m\u001b[1;33m.\u001b[0m\u001b[0mstep\u001b[0m\u001b[1;33m(\u001b[0m\u001b[1;36m0\u001b[0m\u001b[1;33m,\u001b[0m\u001b[1;36m0\u001b[0m\u001b[1;33m,\u001b[0m\u001b[1;36m0\u001b[0m\u001b[1;33m)\u001b[0m\u001b[1;33m\u001b[0m\u001b[1;33m\u001b[0m\u001b[0m\n\u001b[0;32m      4\u001b[0m     \u001b[1;32melse\u001b[0m \u001b[1;33m:\u001b[0m\u001b[1;33m\u001b[0m\u001b[1;33m\u001b[0m\u001b[0m\n\u001b[1;32m----> 5\u001b[1;33m         \u001b[1;33m(\u001b[0m\u001b[0mrov_x\u001b[0m\u001b[1;33m,\u001b[0m \u001b[0mrov_y\u001b[0m\u001b[1;33m,\u001b[0m \u001b[0mrov_theta\u001b[0m\u001b[1;33m)\u001b[0m \u001b[1;33m=\u001b[0m \u001b[0msim_veh\u001b[0m\u001b[1;33m.\u001b[0m\u001b[0mstep\u001b[0m\u001b[1;33m(\u001b[0m\u001b[0mrvel\u001b[0m\u001b[1;33m,\u001b[0m \u001b[0mlvel\u001b[0m\u001b[1;33m,\u001b[0m \u001b[0mtime_space\u001b[0m\u001b[1;33m[\u001b[0m\u001b[0midx\u001b[0m\u001b[1;33m]\u001b[0m\u001b[1;33m)\u001b[0m\u001b[1;33m\u001b[0m\u001b[1;33m\u001b[0m\u001b[0m\n\u001b[0m\u001b[0;32m      6\u001b[0m \u001b[1;33m\u001b[0m\u001b[0m\n\u001b[0;32m      7\u001b[0m     \u001b[1;33m(\u001b[0m\u001b[1;33m(\u001b[0m\u001b[0mrvel\u001b[0m\u001b[1;33m,\u001b[0m \u001b[0mlvel\u001b[0m\u001b[1;33m)\u001b[0m\u001b[1;33m,\u001b[0m \u001b[0mlateness\u001b[0m\u001b[1;33m,\u001b[0m \u001b[0mhalt\u001b[0m\u001b[1;33m)\u001b[0m \u001b[1;33m=\u001b[0m \u001b[0mvc\u001b[0m\u001b[1;33m.\u001b[0m\u001b[0mcontroller_step\u001b[0m\u001b[1;33m(\u001b[0m \u001b[0mtime_space\u001b[0m\u001b[1;33m[\u001b[0m\u001b[0midx\u001b[0m\u001b[1;33m]\u001b[0m\u001b[1;33m,\u001b[0m \u001b[0mrov_x\u001b[0m\u001b[1;33m,\u001b[0m \u001b[0mrov_y\u001b[0m\u001b[1;33m,\u001b[0m \u001b[0mrov_theta\u001b[0m\u001b[1;33m)\u001b[0m\u001b[1;33m\u001b[0m\u001b[1;33m\u001b[0m\u001b[0m\n",
      "\u001b[1;32mc:\\users\\geo\\github\\autocone\\src\\autocone\\vehicle_simulator.py\u001b[0m in \u001b[0;36mstep\u001b[1;34m(self, rvel, lvel, time_stamp)\u001b[0m\n\u001b[0;32m     20\u001b[0m     \u001b[1;32mdef\u001b[0m \u001b[0mstep\u001b[0m\u001b[1;33m(\u001b[0m \u001b[0mself\u001b[0m\u001b[1;33m,\u001b[0m \u001b[0mrvel\u001b[0m\u001b[1;33m,\u001b[0m \u001b[0mlvel\u001b[0m\u001b[1;33m,\u001b[0m \u001b[0mtime_stamp\u001b[0m \u001b[1;33m)\u001b[0m \u001b[1;33m:\u001b[0m\u001b[1;33m\u001b[0m\u001b[1;33m\u001b[0m\u001b[0m\n\u001b[0;32m     21\u001b[0m         \u001b[1;32mif\u001b[0m \u001b[0mnp\u001b[0m\u001b[1;33m.\u001b[0m\u001b[0misnan\u001b[0m\u001b[1;33m(\u001b[0m\u001b[0mrvel\u001b[0m\u001b[1;33m)\u001b[0m \u001b[1;32mor\u001b[0m \u001b[0mnp\u001b[0m\u001b[1;33m.\u001b[0m\u001b[0misnan\u001b[0m\u001b[1;33m(\u001b[0m\u001b[0mlvel\u001b[0m\u001b[1;33m)\u001b[0m \u001b[1;32mor\u001b[0m \u001b[0mnp\u001b[0m\u001b[1;33m.\u001b[0m\u001b[0misnan\u001b[0m\u001b[1;33m(\u001b[0m \u001b[0mtime_stamp\u001b[0m\u001b[1;33m)\u001b[0m\u001b[1;33m:\u001b[0m\u001b[1;33m\u001b[0m\u001b[1;33m\u001b[0m\u001b[0m\n\u001b[1;32m---> 22\u001b[1;33m             \u001b[1;32mraise\u001b[0m \u001b[0mValueError\u001b[0m\u001b[1;33m(\u001b[0m\u001b[1;34m'The inputs cannot be nan values {}, {}, {}'\u001b[0m\u001b[1;33m.\u001b[0m\u001b[0mformat\u001b[0m\u001b[1;33m(\u001b[0m\u001b[0mrvel\u001b[0m\u001b[1;33m,\u001b[0m\u001b[0mlvel\u001b[0m\u001b[1;33m,\u001b[0m\u001b[0mtime_stamp\u001b[0m\u001b[1;33m)\u001b[0m\u001b[1;33m)\u001b[0m\u001b[1;33m\u001b[0m\u001b[1;33m\u001b[0m\u001b[0m\n\u001b[0m\u001b[0;32m     23\u001b[0m         \u001b[1;32mif\u001b[0m \u001b[1;32mnot\u001b[0m\u001b[1;33m(\u001b[0m\u001b[0mrvel\u001b[0m \u001b[1;33m==\u001b[0m \u001b[1;36m0\u001b[0m \u001b[1;32mand\u001b[0m \u001b[0mlvel\u001b[0m \u001b[1;33m==\u001b[0m \u001b[1;36m0\u001b[0m\u001b[1;33m)\u001b[0m \u001b[1;33m:\u001b[0m\u001b[1;33m\u001b[0m\u001b[1;33m\u001b[0m\u001b[0m\n\u001b[0;32m     24\u001b[0m             \u001b[0mnew_vr\u001b[0m \u001b[1;33m=\u001b[0m \u001b[0mself\u001b[0m\u001b[1;33m.\u001b[0m\u001b[0macc\u001b[0m \u001b[1;33m*\u001b[0m \u001b[1;33m(\u001b[0m\u001b[0mrvel\u001b[0m \u001b[1;33m-\u001b[0m \u001b[0mself\u001b[0m\u001b[1;33m.\u001b[0m\u001b[0mvr\u001b[0m\u001b[1;33m[\u001b[0m\u001b[1;33m-\u001b[0m\u001b[1;36m1\u001b[0m\u001b[1;33m]\u001b[0m\u001b[1;33m)\u001b[0m \u001b[1;33m*\u001b[0m \u001b[1;33m(\u001b[0m\u001b[0mtime_stamp\u001b[0m \u001b[1;33m-\u001b[0m \u001b[0mself\u001b[0m\u001b[1;33m.\u001b[0m\u001b[0mtime\u001b[0m\u001b[1;33m[\u001b[0m\u001b[1;33m-\u001b[0m\u001b[1;36m1\u001b[0m\u001b[1;33m]\u001b[0m\u001b[1;33m)\u001b[0m \u001b[1;33m+\u001b[0m \u001b[0mself\u001b[0m\u001b[1;33m.\u001b[0m\u001b[0mvr\u001b[0m\u001b[1;33m[\u001b[0m\u001b[1;33m-\u001b[0m\u001b[1;36m1\u001b[0m\u001b[1;33m]\u001b[0m\u001b[1;33m\u001b[0m\u001b[1;33m\u001b[0m\u001b[0m\n",
      "\u001b[1;31mValueError\u001b[0m: The inputs cannot be nan values nan, nan, 0.012001200120012"
     ]
    }
   ],
   "source": [
    "for idx in range( len( time_space )-1 ) :\n",
    "    if idx == 0 or halt :\n",
    "        (rov_x, rov_y, rov_theta) = sim_veh.step(0,0,0)\n",
    "    else :\n",
    "        (rov_x, rov_y, rov_theta) = sim_veh.step(rvel, lvel, time_space[idx])\n",
    "    \n",
    "    ((rvel, lvel), lateness, halt) = vc.controller_step( time_space[idx], rov_x, rov_y, rov_theta)\n",
    "    if halt:\n",
    "        break\n",
    "\n",
    "time_delta = 0.1\n",
    "last_time = time_space[-1]\n",
    "\"\"\"\n",
    "i =0\n",
    "while (rvel > 0 and lvel > 0) and i < 1000 :\n",
    "    last_time += time_delta\n",
    "    (rov_x, rov_y, rov_theta) = sim_veh.step(rvel, lvel, last_time)\n",
    "    ((rvel,lvel),lateness) = vc.controller_step( last_time, rov_x, rov_y, rov_theta)\n",
    "    i += 1\n",
    "\"\"\"\n",
    "plt.scatter(y_path, x_path)\n",
    "plt.scatter(sim_veh.y, sim_veh.x)\n",
    "#print(vc.sc.src_data.get_whole_array()[:,vc.sc.idx_heading])\n",
    "pd.DataFrame({'src_x':x_path, 'src_y':y_path}).to_csv('src_straight_line.csv')\n",
    "pd.DataFrame({'rov_x':sim_veh.x, 'rov_y':sim_veh.y}).to_csv('rov_straight_line.csv')"
   ]
  },
  {
   "cell_type": "code",
   "execution_count": null,
   "metadata": {},
   "outputs": [],
   "source": [
    "time_space = np.linspace(0,120,num=N)\n",
    "x_path = 50*np.cos(time_space/120)\n",
    "y_path = 5*np.sin(time_space/50)\n",
    "plt.scatter(y_path, x_path)"
   ]
  },
  {
   "cell_type": "code",
   "execution_count": null,
   "metadata": {},
   "outputs": [],
   "source": [
    "tf_veh = tf_skid_steering( 0.5, 0.254 )\n",
    "sim_veh = sim_skid_steering( 0.5, 0.254, 45, -10, -np.pi/2, 0, acc)\n",
    "sc = spline_controller( targ_hdg_fnc, 'xyz', 'xyz', 4.0, 0.5, 0.5, 1.0, 5.0, 10,10000)\n",
    "hc = PID_hdg( kp , ki, kd)\n",
    "vc = vehicle_controller( sc, hc, tf_veh )"
   ]
  },
  {
   "cell_type": "code",
   "execution_count": null,
   "metadata": {},
   "outputs": [],
   "source": [
    "for idx in range( len( time_space ) ) :\n",
    "    vc.src_add(x_path[idx], y_path[idx], time_space[idx])\n",
    "for idx in range( len( time_space ) ) :\n",
    "    if idx == 0 or halt:\n",
    "        (rov_x, rov_y, rov_theta) = sim_veh.step(0,0,0)\n",
    "    else :\n",
    "        (rov_x, rov_y, rov_theta) = sim_veh.step(rvel, lvel, time_space[idx])\n",
    "    \n",
    "    ((rvel, lvel), lateness, halt) = vc.controller_step( time_space[idx], rov_x, rov_y, rov_theta)\n",
    "\n",
    "\n",
    "time_delta = 0.1\n",
    "last_time = time_space[-1]\n",
    "\"\"\"\n",
    "i =0\n",
    "while (rvel > 0 and lvel > 0) and i < 1000 :\n",
    "    last_time += time_delta\n",
    "    (rov_x, rov_y, rov_theta) = sim_veh.step(rvel, lvel, last_time)\n",
    "    ((rvel,lvel),lateness) = vc.controller_step( last_time, rov_x, rov_y, rov_theta)\n",
    "    i += 1\n",
    "\"\"\"\n",
    "plt.scatter(y_path, x_path)\n",
    "plt.scatter(sim_veh.y, sim_veh.x)\n",
    "#print(vc.sc.src_data.get_whole_array()[:,vc.sc.idx_heading])\n",
    "pd.DataFrame({'src_x':x_path, 'src_y':y_path}).to_csv('src_curve.csv')\n",
    "pd.DataFrame({'rov_x':sim_veh.x, 'rov_y':sim_veh.y}).to_csv('rov_curve.csv')"
   ]
  },
  {
   "cell_type": "code",
   "execution_count": null,
   "metadata": {},
   "outputs": [],
   "source": []
  },
  {
   "cell_type": "code",
   "execution_count": null,
   "metadata": {},
   "outputs": [],
   "source": []
  }
 ],
 "metadata": {
  "kernelspec": {
   "display_name": "Python 3",
   "language": "python",
   "name": "python3"
  },
  "language_info": {
   "codemirror_mode": {
    "name": "ipython",
    "version": 3
   },
   "file_extension": ".py",
   "mimetype": "text/x-python",
   "name": "python",
   "nbconvert_exporter": "python",
   "pygments_lexer": "ipython3",
   "version": "3.8.5"
  }
 },
 "nbformat": 4,
 "nbformat_minor": 4
}
